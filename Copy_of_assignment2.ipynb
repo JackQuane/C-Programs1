{
  "nbformat": 4,
  "nbformat_minor": 0,
  "metadata": {
    "kernelspec": {
      "display_name": "Python 3",
      "language": "python",
      "name": "python3"
    },
    "language_info": {
      "codemirror_mode": {
        "name": "ipython",
        "version": 3
      },
      "file_extension": ".py",
      "mimetype": "text/x-python",
      "name": "python",
      "nbconvert_exporter": "python",
      "pygments_lexer": "ipython3",
      "version": "3.7.6"
    },
    "colab": {
      "name": "Copy of assignment2.ipynb",
      "provenance": [],
      "collapsed_sections": [],
      "include_colab_link": true
    }
  },
  "cells": [
    {
      "cell_type": "markdown",
      "metadata": {
        "id": "view-in-github",
        "colab_type": "text"
      },
      "source": [
        "<a href=\"https://colab.research.google.com/github/JackQuane/C-Programs1/blob/master/Copy_of_assignment2.ipynb\" target=\"_parent\"><img src=\"https://colab.research.google.com/assets/colab-badge.svg\" alt=\"Open In Colab\"/></a>"
      ]
    },
    {
      "cell_type": "markdown",
      "metadata": {
        "id": "ReyVl50epJiB",
        "colab_type": "text"
      },
      "source": [
        "### CS4423 - Networks\n",
        "Prof. Götz Pfeiffer<br />\n",
        "School of Mathematics, Statistics and Applied Mathematics<br />\n",
        "NUI Galway"
      ]
    },
    {
      "cell_type": "markdown",
      "metadata": {
        "id": "YW5OuDCWpJiD",
        "colab_type": "text"
      },
      "source": [
        "# Assignment 2"
      ]
    },
    {
      "cell_type": "markdown",
      "metadata": {
        "id": "FxrNm3qIpJiF",
        "colab_type": "text"
      },
      "source": [
        "Provide answers to the problems in the boxes provided.  \n",
        "\n",
        "The buttons at the top of the page can be used to **create\n",
        "more boxes if needed**.\n",
        "The type of box can be changed from `Code` to `Markdown`.\n",
        "`Code` boxes take (and execute) `python` code.\n",
        "`Markdown` boxes take (and format nicely) **text input**.\n",
        "In this way, you can provide answers, ask questions, \n",
        "or raise issues, in words.\n",
        "\n",
        "Marks will be awarded for\n",
        "participation and engagement.\n",
        "\n",
        "When finished, print this notebook into a **pdf** file and submit this to\n",
        "**blackboard**.\n",
        "\n",
        "**Deadline** is next Monday at 5pm."
      ]
    },
    {
      "cell_type": "markdown",
      "metadata": {
        "id": "ZyCu0pYkpJiF",
        "colab_type": "text"
      },
      "source": [
        "## Setup"
      ]
    },
    {
      "cell_type": "markdown",
      "metadata": {
        "id": "KNx5Y5tRpJiG",
        "colab_type": "text"
      },
      "source": [
        "This is a `jupyter` notebook.   You can open and interact\n",
        "with the notebook through one of sites recommended at\n",
        "its [github](https://github.com/gpfeiffer/cs4423) repository.\n",
        "\n",
        "Or, you can\n",
        "install and use `jupyter` as a `python` package on your own laptop or PC.  "
      ]
    },
    {
      "cell_type": "markdown",
      "metadata": {
        "id": "zI_nl_-fpJiH",
        "colab_type": "text"
      },
      "source": [
        "The following command loads the `networkx` package into the current session.  \n",
        "The next command specifies some standard options that can be useful for drawing graphs.  \n",
        "\n",
        "In order to execute the code in a box,\n",
        "use the mouse or arrow keys to highlight the box and then press SHIFT-RETURN."
      ]
    },
    {
      "cell_type": "code",
      "metadata": {
        "id": "JKfUUXbPpJiI",
        "colab_type": "code",
        "colab": {}
      },
      "source": [
        "import networkx as nx\n",
        "import pandas as pd\n",
        "from queue import Queue\n",
        "opts = { \"with_labels\": True, \"node_color\": 'y' }"
      ],
      "execution_count": 0,
      "outputs": []
    },
    {
      "cell_type": "markdown",
      "metadata": {
        "id": "WOBPtTalpJiM",
        "colab_type": "text"
      },
      "source": [
        "Should it ever happen that the notebook becomes unusable, start again with a fresh copy."
      ]
    },
    {
      "cell_type": "markdown",
      "metadata": {
        "id": "NhIuQgNapJiN",
        "colab_type": "text"
      },
      "source": [
        "## 1.  The Counties of Ireland."
      ]
    },
    {
      "cell_type": "markdown",
      "metadata": {
        "id": "AGtN1RI_pJiN",
        "colab_type": "text"
      },
      "source": [
        "Define a graph `I` on the $32$ counties of Ireland by\n",
        "joining two counties whenever they have a common border.\n",
        "(A list of counties and their borders in the adjacency list format\n",
        "can be found on [github](https://github.com/gpfeiffer/cs4423/blob/master/data/ireland.adj):\n",
        "check the data and let us know if you disagree!)\n",
        "\n",
        "What is the order and the size of the resulting graph?\n",
        "\n",
        "In terms of centrality measures, what are the $3$ most central counties, for\n",
        "1.  degree centrality?\n",
        "1.  eigenvector centrality?\n",
        "1.  closeness centrality?\n",
        "1.  betweenness centrality?\n",
        "\n"
      ]
    },
    {
      "cell_type": "code",
      "metadata": {
        "id": "2BpJTLnppJiO",
        "colab_type": "code",
        "colab": {
          "base_uri": "https://localhost:8080/",
          "height": 130
        },
        "outputId": "c6899cca-4b26-4b0d-c800-d4fcff9cf602"
      },
      "source": [
        "I= nx.Graph([\"Antrim Armagh Derry Down Tyrone\",\n",
        "\"Armagh Antrim Tyrone Down Monaghan Louth\",\n",
        "\"Carlow Kildare Kilkenny Laois Wexford Wicklow\",\n",
        "\"Cavan Fermanagh Leitrim Longford Meath Monaghan Westmeath\",\n",
        "\"Clare Galway Kerry Limerick Tipperary\",\n",
        "\"Cork Kerry Limerick Tipperary Waterford\",\n",
        "\"Derry Antrim Donegal Tyrone\",\n",
        "\"Donegal Derry Tyrone Fermanagh Leitrim\",\n",
        "\"Down Antrim Armagh Louth\",\n",
        "\"Dublin Kildare Meath Wicklow\",\n",
        "\"Fermanagh Cavan Donegal Leitrim Monaghan Tyrone\",\n",
        "\"Galway Clare Mayo Offaly Roscommon Tipperary\",\n",
        "\"Kerry Clare Cork Limerick\",\n",
        "\"Kildare Carlow Dublin Laois Meath Offaly Wicklow\",\n",
        "\"Kilkenny Carlow Laois Tipperary Waterford Wexford\",\n",
        "\"Laois Carlow Kildare Kilkenny Offaly Tipperary\",\n",
        "\"Leitrim Cavan Donegal Fermanagh Longford Roscommon Sligo\",\n",
        "\"Limerick Clare Cork Kerry Tipperary\",\n",
        "\"Longford Cavan Leitrim Roscommon Westmeath\",\n",
        "\"Louth Armagh Down Meath Monaghan\",\n",
        "\"Mayo Galway Roscommon Sligo\",\n",
        "\"Meath Cavan Dublin Kildare Louth Monaghan Offaly Westmeath\",\n",
        "\"Monaghan Armagh Cavan Fermanagh Louth Meath Tyrone\",\n",
        "\"Offaly Galway Kildare Laois Meath Roscommon Tipperary Westmeath\",\n",
        "\"Roscommon Galway Leitrim Longford Mayo Offaly Sligo Westmeath\",\n",
        "\"Sligo Leitrim Mayo Roscommon\",\n",
        "\"Tipperary Clare Waterford Kilkenny Laois Offaly Galway Limerick Cork\",\n",
        "\"Tyrone Antrim Armagh Derry Donegal Fermanagh Monaghan\",\n",
        "\"Waterford Cork Kilkenny Tipperary Wexford\",\n",
        "\"Westmeath Cavan Longford Meath Offaly Roscommon\",\n",
        "\"Wexford Carlow Kilkenny Waterford Wicklow\",\n",
        "\"Wicklow Carlow Dublin Kildare Wexford\"])\n"
      ],
      "execution_count": 9,
      "outputs": [
        {
          "output_type": "error",
          "ename": "SyntaxError",
          "evalue": "ignored",
          "traceback": [
            "\u001b[0;36m  File \u001b[0;32m\"<ipython-input-9-e190af9c5864>\"\u001b[0;36m, line \u001b[0;32m1\u001b[0m\n\u001b[0;31m    I= nx.Graph([\"Antrim Armagh Derry Down Tyrone\",\u001b[0m\n\u001b[0m        ^\u001b[0m\n\u001b[0;31mSyntaxError\u001b[0m\u001b[0;31m:\u001b[0m invalid character in identifier\n"
          ]
        }
      ]
    },
    {
      "cell_type": "markdown",
      "metadata": {
        "id": "LC7VmkvgpJiR",
        "colab_type": "text"
      },
      "source": [
        "## 2.  Actions on Sets."
      ]
    },
    {
      "cell_type": "markdown",
      "metadata": {
        "id": "XpSRDM1mpJiS",
        "colab_type": "text"
      },
      "source": [
        "Recall the implementation of **permutations as tuples** ..."
      ]
    },
    {
      "cell_type": "code",
      "metadata": {
        "id": "HCXuI8H5pJiT",
        "colab_type": "code",
        "colab": {}
      },
      "source": [
        "n = 4\n",
        "\n",
        "def transposition(n, i):\n",
        "    t = [k for k in range(n)]\n",
        "    t[i], t[i+1] = t[i+1], t[i]\n",
        "    return tuple(t)\n",
        "\n",
        "gens = [transposition(n, k) for k in range(n-1)]"
      ],
      "execution_count": 0,
      "outputs": []
    },
    {
      "cell_type": "markdown",
      "metadata": {
        "id": "Bz9DQTNlpJiY",
        "colab_type": "text"
      },
      "source": [
        "... and the **orbit algorithm** that creates the **action graph**:"
      ]
    },
    {
      "cell_type": "code",
      "metadata": {
        "id": "WEP-BSBopJiZ",
        "colab_type": "code",
        "colab": {}
      },
      "source": [
        "def init_Q_G(x):\n",
        "    Q = Queue()\n",
        "    Q.put(x)\n",
        "    G = nx.Graph()\n",
        "    G.add_node(x)\n",
        "    return Q, G\n",
        "\n",
        "def action_graph(gens, x, action, equals):\n",
        "    Q, G = init_Q_G(x)\n",
        "    while not Q.empty():\n",
        "        y = Q.get()\n",
        "        for a in gens:\n",
        "            z = action(a, y)\n",
        "            w = next((v for v in G.nodes() if equals(v, z)), None)\n",
        "            if w is None:\n",
        "                Q.put(z)\n",
        "                G.add_node(z)\n",
        "                G.add_edge(y, z)\n",
        "            else:\n",
        "                G.add_edge(y, w)\n",
        "    return G"
      ],
      "execution_count": 0,
      "outputs": []
    },
    {
      "cell_type": "markdown",
      "metadata": {
        "id": "F39MOyQPpJic",
        "colab_type": "text"
      },
      "source": [
        "Permutations act on subsets of $X = \\{0, 1, \\dots, n{-}1\\}$ in such a way that, for any subset $Z \\subseteq X$\n",
        "and a permutation $f$ of $X$, the image of $Z$ under $f$ is determined as\n",
        "$$\n",
        "f(Z) = \\{f(z) : z \\in Z\\},\n",
        "$$\n",
        "the image of the set is the set of the images. In `python`, using hashable `frozenset`s rather\n",
        "than mutable `set`s, this action can be defined as"
      ]
    },
    {
      "cell_type": "code",
      "metadata": {
        "id": "0A_DFm99pJic",
        "colab_type": "code",
        "colab": {}
      },
      "source": [
        "def on_sets(a, zzz):\n",
        "    return frozenset(a[z] for z in zzz)"
      ],
      "execution_count": 0,
      "outputs": []
    },
    {
      "cell_type": "markdown",
      "metadata": {
        "id": "XtlqHrD3pJif",
        "colab_type": "text"
      },
      "source": [
        "Trusting that equality of (frozen) sets can be tested with `python`'s ordinary equals operator, we again set"
      ]
    },
    {
      "cell_type": "code",
      "metadata": {
        "id": "69S13AdkpJig",
        "colab_type": "code",
        "colab": {}
      },
      "source": [
        "def eq(x, y):\n",
        "    return x == y"
      ],
      "execution_count": 0,
      "outputs": []
    },
    {
      "cell_type": "markdown",
      "metadata": {
        "id": "otkJwzPdpJij",
        "colab_type": "text"
      },
      "source": [
        "Then we can compute and draw the action graph of the symmetric group $S_4$ acting on the \n",
        "$2$-subsets of $\\{0,1,2,3\\}$, using $x = \\{0, 1\\}$ as the initial vertex:"
      ]
    },
    {
      "cell_type": "code",
      "metadata": {
        "id": "xTNFYMJ6pJik",
        "colab_type": "code",
        "colab": {
          "base_uri": "https://localhost:8080/",
          "height": 319
        },
        "outputId": "645e3084-a52e-48a8-c044-bb2c4be8329b"
      },
      "source": [
        "G = action_graph(gens, frozenset({0,1}), on_sets, eq)\n",
        "nx.draw(G, **opts)"
      ],
      "execution_count": 42,
      "outputs": [
        {
          "output_type": "display_data",
          "data": {
            "image/png": "[encoded data removed]",
            "text/plain": [
              "<Figure size 432x288 with 1 Axes>"
            ]
          },
          "metadata": {
            "tags": []
          }
        }
      ]
    },
    {
      "cell_type": "markdown",
      "metadata": {
        "id": "wF25Tc5lpJin",
        "colab_type": "text"
      },
      "source": [
        "1. Compute and draw the action graph of $S_5$ acting on the $3$-subsets of $\\{0,1,2,3,4\\}$.\n",
        "(You would need to define a new list `gens` of generators, and find a suitable $3$-set `x`\n",
        "to compute the orbit of.  Everything else, the `action_graph` function, the action `on_sets`\n",
        "and the equality test `eq` should still work.)\n",
        "\n",
        "2. Compute and draw the action graph of $S_6$ acting on the $3$-subsets of $\\{0,1,2,3,4,5\\}$."
      ]
    },
    {
      "cell_type": "code",
      "metadata": {
        "id": "bSO2f6wLpJio",
        "colab_type": "code",
        "colab": {
          "base_uri": "https://localhost:8080/",
          "height": 319
        },
        "outputId": "7637dd95-a11b-404e-f17f-75b88665672b"
      },
      "source": [
        "n = 5\n",
        "\n",
        "gens = [transposition(n, k) for k in range(n-1)]\\\n",
        "\n",
        "G = action_graph(gens, frozenset({0,1}), on_sets, eq)\n",
        "nx.draw(G, **opts)\n",
        "\n"
      ],
      "execution_count": 44,
      "outputs": [
        {
          "output_type": "display_data",
          "data": {
            "image/png": "[encoded data removed]",
            "text/plain": [
              "<Figure size 432x288 with 1 Axes>"
            ]
          },
          "metadata": {
            "tags": []
          }
        }
      ]
    },
    {
      "cell_type": "code",
      "metadata": {
        "id": "NmSvdv8N4SbW",
        "colab_type": "code",
        "colab": {
          "base_uri": "https://localhost:8080/",
          "height": 319
        },
        "outputId": "07a8cd57-41e3-4aaf-8208-a8d1a3db0e60"
      },
      "source": [
        "n = 6\n",
        "\n",
        "gens = [transposition(n, k) for k in range(n-1)]\\\n",
        "\n",
        "G = action_graph(gens, frozenset({0,1}), on_sets, eq)\n",
        "nx.draw(G, **opts)"
      ],
      "execution_count": 45,
      "outputs": [
        {
          "output_type": "display_data",
          "data": {
            "image/png": "[encoded data removed]",
            "text/plain": [
              "<Figure size 432x288 with 1 Axes>"
            ]
          },
          "metadata": {
            "tags": []
          }
        }
      ]
    },
    {
      "cell_type": "markdown",
      "metadata": {
        "id": "QLhlHuSxpJiq",
        "colab_type": "text"
      },
      "source": [
        "## 3. Labelled vs. Unlabelled Trees"
      ]
    },
    {
      "cell_type": "markdown",
      "metadata": {
        "id": "Z7xh3vYrpJiq",
        "colab_type": "text"
      },
      "source": [
        "According to Cayley's formula, there are $n^{n-2}$ **labelled trees**\n",
        "on the $n$-point vertex set $X = \\{0, 1, 2, \\dots, n{-}1\\}$.\n",
        "\n",
        "The **isomorphism types** of trees, aka **unlabelled trees** on $n$ vertices\n",
        "are much harder to count: there is no closed formula for the number of unlabelled trees.\n",
        "\n",
        "Using the concept of group actions, we have already determined the\n",
        "**orbits** of the labelled trees on $4$ nodes under all permutations \n",
        "of those $4$ nodes.  As a result we have seen that there are (only) $2$\n",
        "unlabelled trees on $4$ points, one orbit of length $4$ and one of length $12$,\n",
        "accounting for a total of $4^{4-2} = 16$ labelled trees.\n",
        "\n",
        "The same method yields unlabelled trees on more than $4$ points, as follows.\n",
        "Recall the tools that have been used in the case $n = 4$."
      ]
    },
    {
      "cell_type": "markdown",
      "metadata": {
        "id": "DA7DhMeapJir",
        "colab_type": "text"
      },
      "source": [
        "* We have represented permutations on $n$ points as `python` tuples of length $n$,\n",
        "in particular the transposition swapping points $i$ and $i{+}1$:"
      ]
    },
    {
      "cell_type": "code",
      "metadata": {
        "id": "6lk-rbkmpJis",
        "colab_type": "code",
        "colab": {}
      },
      "source": [
        "def transposition(n, i):\n",
        "    t = list(range(n))\n",
        "    t[i], t[i+1] = t[i+1], t[i]\n",
        "    return tuple(t)"
      ],
      "execution_count": 0,
      "outputs": []
    },
    {
      "cell_type": "markdown",
      "metadata": {
        "id": "9HNVn-ZmpJiv",
        "colab_type": "text"
      },
      "source": [
        "* We have checked equality of graphs by checking whether their node sets and their\n",
        "edge sets are the same:"
      ]
    },
    {
      "cell_type": "code",
      "metadata": {
        "id": "ZJOdkJeppJiv",
        "colab_type": "code",
        "colab": {}
      },
      "source": [
        "def is_subgraph(G, H):\n",
        "    for x in G:\n",
        "        if not H.has_node(x):\n",
        "            return False\n",
        "    for e in G.edges:\n",
        "        if not H.has_edge(*e):\n",
        "            return False\n",
        "    return True \n",
        "\n",
        "def are_equal_as_graphs(G, H):\n",
        "    return is_subgraph(G, H) and is_subgraph(H, G)"
      ],
      "execution_count": 0,
      "outputs": []
    },
    {
      "cell_type": "markdown",
      "metadata": {
        "id": "KSxOT7SBpJiy",
        "colab_type": "text"
      },
      "source": [
        "* We have set up a BFS over the implicit action graph\n",
        "spanned by the action of the symmetric group as an **orbit algorithm**:"
      ]
    },
    {
      "cell_type": "code",
      "metadata": {
        "id": "NlLZVINVpJi0",
        "colab_type": "code",
        "colab": {}
      },
      "source": [
        "def orbit(gens, x, action, equals):\n",
        "    xxx = [x]\n",
        "    for y in xxx:\n",
        "        for a in gens:\n",
        "            z = action(a, y)\n",
        "            w = next((v for v in xxx if equals(v, z)), None)\n",
        "            if w is None:\n",
        "                xxx.append(z)\n",
        "    return xxx"
      ],
      "execution_count": 0,
      "outputs": []
    },
    {
      "cell_type": "markdown",
      "metadata": {
        "id": "Zyzbcv5ZpJi2",
        "colab_type": "text"
      },
      "source": [
        "* And we have formulated the relabelling of nodes as a group action:"
      ]
    },
    {
      "cell_type": "code",
      "metadata": {
        "id": "iU0emUZFpJi3",
        "colab_type": "code",
        "colab": {}
      },
      "source": [
        "def relabel(a, G):\n",
        "    mapping = dict(enumerate(a))\n",
        "    return nx.relabel_nodes(G, mapping)"
      ],
      "execution_count": 0,
      "outputs": []
    },
    {
      "cell_type": "markdown",
      "metadata": {
        "id": "jfzuCxtLpJi5",
        "colab_type": "text"
      },
      "source": [
        "* Finally, we'll use the [`is_isomorphic`](https://networkx.github.io/documentation/stable/reference/algorithms/generated/networkx.algorithms.isomorphism.is_isomorphic.html) function that `networkx` provides to\n",
        "test isomorphism of graphs."
      ]
    },
    {
      "cell_type": "markdown",
      "metadata": {
        "id": "ZRlpr9jbpJi6",
        "colab_type": "text"
      },
      "source": [
        "With all of this in place, we can systematically list all \n",
        "unlabelled trees on $n = 5$\n",
        "nodes: \n",
        "\n",
        "* Start by setting `n` to $5$, listing the four generating transpositions\n",
        "of the symmetric group $S_5$ as `swaps`, and initializing a list of `orbits`,\n",
        "for now as an empty list:"
      ]
    },
    {
      "cell_type": "code",
      "metadata": {
        "id": "Mh2WcRr1pJi8",
        "colab_type": "code",
        "colab": {}
      },
      "source": [
        "n = 5\n",
        "swaps = [transposition(n, k) for k in range(n-1)]\n",
        "orbits = []"
      ],
      "execution_count": 0,
      "outputs": []
    },
    {
      "cell_type": "markdown",
      "metadata": {
        "id": "Ib8_R_VtpJi-",
        "colab_type": "text"
      },
      "source": [
        "* Pick a random tree `t` on $n$ points and draw it:"
      ]
    },
    {
      "cell_type": "code",
      "metadata": {
        "id": "k_lgnHsJpJi_",
        "colab_type": "code",
        "colab": {
          "base_uri": "https://localhost:8080/",
          "height": 319
        },
        "outputId": "ca281abe-e5a2-46ec-bc17-2a5a32b1416d"
      },
      "source": [
        "t = nx.random_tree(n)\n",
        "nx.draw(t)"
      ],
      "execution_count": 53,
      "outputs": [
        {
          "output_type": "display_data",
          "data": {
            "image/png": "[encoded data removed]",
            "text/plain": [
              "<Figure size 432x288 with 1 Axes>"
            ]
          },
          "metadata": {
            "tags": []
          }
        }
      ]
    },
    {
      "cell_type": "markdown",
      "metadata": {
        "id": "ajopwNnmpJjC",
        "colab_type": "text"
      },
      "source": [
        "* Compute the orbit of `t` under the generating permutations `swaps`\n",
        "  with respect to the `relabel` action, append the orbit to the list `orbits`\n",
        "  and check its length:"
      ]
    },
    {
      "cell_type": "code",
      "metadata": {
        "id": "s96aTa-epJjC",
        "colab_type": "code",
        "colab": {
          "base_uri": "https://localhost:8080/",
          "height": 34
        },
        "outputId": "471fecb8-4e30-4748-e2d5-b2e5f33f963b"
      },
      "source": [
        "orb = orbit(swaps, t, relabel, are_equal_as_graphs)\n",
        "orbits.append(orb)\n",
        "len(orb)"
      ],
      "execution_count": 54,
      "outputs": [
        {
          "output_type": "execute_result",
          "data": {
            "text/plain": [
              "60"
            ]
          },
          "metadata": {
            "tags": []
          },
          "execution_count": 54
        }
      ]
    },
    {
      "cell_type": "markdown",
      "metadata": {
        "id": "q9Cc3jJcpJjE",
        "colab_type": "text"
      },
      "source": [
        "* Pick another random tree `t`; in case it is isomorphic to the old tree `t`\n",
        "  (which now is `orbits[0][0]`) pick again, and keep picking until a tree `t` is\n",
        "  found that's not isomorphic to the old one; draw `t` - it should have a different shape:"
      ]
    },
    {
      "cell_type": "code",
      "metadata": {
        "id": "0GMNSqJrpJjF",
        "colab_type": "code",
        "colab": {
          "base_uri": "https://localhost:8080/",
          "height": 319
        },
        "outputId": "3269a136-274a-40d1-8c1f-74b7b3aaf721"
      },
      "source": [
        "t = nx.random_tree(n)\n",
        "while nx.is_isomorphic(t, orbits[0][0]):\n",
        "    t = nx.random_tree(n)\n",
        "\n",
        "nx.draw(t)"
      ],
      "execution_count": 55,
      "outputs": [
        {
          "output_type": "display_data",
          "data": {
            "image/png": "[encoded data removed]",
            "text/plain": [
              "<Figure size 432x288 with 1 Axes>"
            ]
          },
          "metadata": {
            "tags": []
          }
        }
      ]
    },
    {
      "cell_type": "markdown",
      "metadata": {
        "id": "g4kk1R-2pJjI",
        "colab_type": "text"
      },
      "source": [
        "* Compute its orbit and append it to the list `orbits`:"
      ]
    },
    {
      "cell_type": "code",
      "metadata": {
        "id": "xoZSK6y-pJjI",
        "colab_type": "code",
        "colab": {
          "base_uri": "https://localhost:8080/",
          "height": 34
        },
        "outputId": "50bb15dc-1fd8-4481-e5d4-0844a7e36b07"
      },
      "source": [
        "orb = orbit(swaps, t, relabel, are_equal_as_graphs)\n",
        "orbits.append(orb)\n",
        "len(orb)"
      ],
      "execution_count": 56,
      "outputs": [
        {
          "output_type": "execute_result",
          "data": {
            "text/plain": [
              "60"
            ]
          },
          "metadata": {
            "tags": []
          },
          "execution_count": 56
        }
      ]
    },
    {
      "cell_type": "markdown",
      "metadata": {
        "id": "GFf7IuXGpJjK",
        "colab_type": "text"
      },
      "source": [
        "* How many labelled trees have we found so far?"
      ]
    },
    {
      "cell_type": "code",
      "metadata": {
        "id": "HCbC1Wu_pJjL",
        "colab_type": "code",
        "colab": {
          "base_uri": "https://localhost:8080/",
          "height": 34
        },
        "outputId": "6ebb4332-4bfc-4025-b2a3-3dc6aabd0aa7"
      },
      "source": [
        "sum(len(o) for o in orbits)"
      ],
      "execution_count": 57,
      "outputs": [
        {
          "output_type": "execute_result",
          "data": {
            "text/plain": [
              "120"
            ]
          },
          "metadata": {
            "tags": []
          },
          "execution_count": 57
        }
      ]
    },
    {
      "cell_type": "markdown",
      "metadata": {
        "id": "_0I5EigcpJjN",
        "colab_type": "text"
      },
      "source": [
        "* That's less than $125$, so we keep searching by repeating the above steps - first\n",
        "  keep picking random trees until one is found that is not isomorphic to \n",
        "  [**any**](https://docs.python.org/3/library/functions.html#any) of the previously found ones (which now are `o[0] for o in orbits`):"
      ]
    },
    {
      "cell_type": "code",
      "metadata": {
        "id": "DaDDzBfBpJjO",
        "colab_type": "code",
        "colab": {
          "base_uri": "https://localhost:8080/",
          "height": 319
        },
        "outputId": "5a78a116-6fab-428f-d5bd-2038b8e5e130"
      },
      "source": [
        "t = nx.random_tree(n)\n",
        "while any(nx.is_isomorphic(t, o[0]) for o in orbits):\n",
        "    t = nx.random_tree(n)\n",
        "\n",
        "nx.draw(t)"
      ],
      "execution_count": 58,
      "outputs": [
        {
          "output_type": "display_data",
          "data": {
            "image/png": "[encoded data removed]",
            "text/plain": [
              "<Figure size 432x288 with 1 Axes>"
            ]
          },
          "metadata": {
            "tags": []
          }
        }
      ]
    },
    {
      "cell_type": "markdown",
      "metadata": {
        "id": "ZBnHqW4RpJjQ",
        "colab_type": "text"
      },
      "source": [
        "* Then append its orbit to the list `orbits`:"
      ]
    },
    {
      "cell_type": "code",
      "metadata": {
        "id": "werbvtbopJjS",
        "colab_type": "code",
        "colab": {
          "base_uri": "https://localhost:8080/",
          "height": 34
        },
        "outputId": "b9fb1eed-f63b-4cd3-de18-0884e38b35ad"
      },
      "source": [
        "orb = orbit(swaps, t, relabel, are_equal_as_graphs)\n",
        "orbits.append(orb)\n",
        "len(orb)"
      ],
      "execution_count": 59,
      "outputs": [
        {
          "output_type": "execute_result",
          "data": {
            "text/plain": [
              "5"
            ]
          },
          "metadata": {
            "tags": []
          },
          "execution_count": 59
        }
      ]
    },
    {
      "cell_type": "markdown",
      "metadata": {
        "id": "_EkwxjHTpJjV",
        "colab_type": "text"
      },
      "source": [
        "* Have we found them all?"
      ]
    },
    {
      "cell_type": "code",
      "metadata": {
        "id": "GjuEmQNVpJjV",
        "colab_type": "code",
        "colab": {
          "base_uri": "https://localhost:8080/",
          "height": 34
        },
        "outputId": "f74c8ada-9f44-4754-a265-76439a2388b9"
      },
      "source": [
        "sum(len(o) for o in orbits)"
      ],
      "execution_count": 60,
      "outputs": [
        {
          "output_type": "execute_result",
          "data": {
            "text/plain": [
              "125"
            ]
          },
          "metadata": {
            "tags": []
          },
          "execution_count": 60
        }
      ]
    },
    {
      "cell_type": "markdown",
      "metadata": {
        "id": "yTCiNCZIpJjX",
        "colab_type": "text"
      },
      "source": [
        "* Yes, all $125$!  So that's $3$ unlabelled trees on $5$ points, \n",
        "  with orbits of length $60$, $60$ and $5$."
      ]
    },
    {
      "cell_type": "markdown",
      "metadata": {
        "id": "m7PiWjWxpJjZ",
        "colab_type": "text"
      },
      "source": [
        "**How many** unlabelled trees are there $n = 6$ points?  Enumerate the \n",
        "**orbits of labelled trees** on $6$ points as above, by following these steps:\n",
        "\n",
        "1. Start by setting `n` to $6$, `swaps` to the list of $5$ generating transpositions\n",
        "   of the symmetric group $S_6$, and `orbits` to the empty list.\n",
        "\n",
        "2. Pick a random tree `t` and draw it.\n",
        "\n",
        "3. Compute the orbit `orb` of `t` under the generating permutations `swaps`,\n",
        "   append `orb` to the list `orbits` and check the length of `orb`.\n",
        "\n",
        "4. Repeat the following steps until the sum of the orbit lengths in `orbits`\n",
        "   equals $6^{6-2} = 1296$:\n",
        "   \n",
        "5. Keep picking random trees on $6$ points until a tree `t` is found that is not isomorphic to any of the previous ones, then draw `t` (is it a new shape?).\n",
        "\n",
        "3. Compute the orbit `orb` of `t` under the generating permutations `swaps`,\n",
        "   append `orb` to the list `orbits` and check the length of `orb`.\n",
        "\n",
        "7. Check the sum of the orbit lengths in `orbit`.  STOP if the desired number is reached.\n",
        "\n",
        "8. How many unlabelled trees on $6$ points did you find?\n",
        "\n",
        "9. How big are their **automorphism groups**? (Use the Orbit-Stabilizer Theorem.)"
      ]
    },
    {
      "cell_type": "code",
      "metadata": {
        "id": "02Q-28K_pJjZ",
        "colab_type": "code",
        "colab": {
          "base_uri": "https://localhost:8080/",
          "height": 336
        },
        "outputId": "48225e42-e4b0-436e-8ba1-7c9922908057"
      },
      "source": [
        "n = 6\n",
        "swaps = [transposition(n, k) for k in range(n-1)]\n",
        "orbits = []\n",
        "\n",
        "t = nx.random_tree(n)\n",
        "nx.draw(t)\n",
        "\n",
        "orb = orbit(swaps, t, relabel, are_equal_as_graphs)\n",
        "orbits.append(orb)\n",
        "len(orb)\n",
        "\n"
      ],
      "execution_count": 66,
      "outputs": [
        {
          "output_type": "execute_result",
          "data": {
            "text/plain": [
              "360"
            ]
          },
          "metadata": {
            "tags": []
          },
          "execution_count": 66
        },
        {
          "output_type": "display_data",
          "data": {
            "image/png": "[encoded data removed]",
            "text/plain": [
              "<Figure size 432x288 with 1 Axes>"
            ]
          },
          "metadata": {
            "tags": []
          }
        }
      ]
    },
    {
      "cell_type": "code",
      "metadata": {
        "id": "bb-_ELyG8OFF",
        "colab_type": "code",
        "colab": {
          "base_uri": "https://localhost:8080/",
          "height": 336
        },
        "outputId": "b1a95c9d-6454-49c6-a266-8a765fff6608"
      },
      "source": [
        "t = nx.random_tree(n)\n",
        "while nx.is_isomorphic(t, orbits[0][0]):\n",
        "    t = nx.random_tree(n)\n",
        "\n",
        "nx.draw(t)\n",
        "\n",
        "orb = orbit(swaps, t, relabel, are_equal_as_graphs)\n",
        "orbits.append(orb)\n",
        "len(orb)\n",
        "\n",
        "sum(len(o) for o in orbits)"
      ],
      "execution_count": 68,
      "outputs": [
        {
          "output_type": "execute_result",
          "data": {
            "text/plain": [
              "810"
            ]
          },
          "metadata": {
            "tags": []
          },
          "execution_count": 68
        },
        {
          "output_type": "display_data",
          "data": {
            "image/png": "[encoded data removed]",
            "text/plain": [
              "<Figure size 432x288 with 1 Axes>"
            ]
          },
          "metadata": {
            "tags": []
          }
        }
      ]
    },
    {
      "cell_type": "code",
      "metadata": {
        "id": "NsDY-oF78uPJ",
        "colab_type": "code",
        "colab": {
          "base_uri": "https://localhost:8080/",
          "height": 336
        },
        "outputId": "f09632b4-e582-45ee-e7a9-a6c08cd54556"
      },
      "source": [
        "t = nx.random_tree(n)\n",
        "while nx.is_isomorphic(t, orbits[0][0]):\n",
        "    t = nx.random_tree(n)\n",
        "\n",
        "nx.draw(t)\n",
        "\n",
        "orb = orbit(swaps, t, relabel, are_equal_as_graphs)\n",
        "orbits.append(orb)\n",
        "len(orb)\n",
        "\n",
        "sum(len(o) for o in orbits)"
      ],
      "execution_count": 69,
      "outputs": [
        {
          "output_type": "execute_result",
          "data": {
            "text/plain": [
              "1170"
            ]
          },
          "metadata": {
            "tags": []
          },
          "execution_count": 69
        },
        {
          "output_type": "display_data",
          "data": {
            "image/png": "[encoded data removed]",
            "text/plain": [
              "<Figure size 432x288 with 1 Axes>"
            ]
          },
          "metadata": {
            "tags": []
          }
        }
      ]
    },
    {
      "cell_type": "code",
      "metadata": {
        "id": "b9mYBJPN80Fl",
        "colab_type": "code",
        "colab": {
          "base_uri": "https://localhost:8080/",
          "height": 336
        },
        "outputId": "35b473e1-6835-4b4a-e5db-dbd51e2ddd15"
      },
      "source": [
        "t = nx.random_tree(n)\n",
        "while nx.is_isomorphic(t, orbits[0][0]):\n",
        "    t = nx.random_tree(n)\n",
        "\n",
        "nx.draw(t)\n",
        "\n",
        "orb = orbit(swaps, t, relabel, are_equal_as_graphs)\n",
        "orbits.append(orb)\n",
        "len(orb)\n",
        "\n",
        "sum(len(o) for o in orbits)"
      ],
      "execution_count": 70,
      "outputs": [
        {
          "output_type": "execute_result",
          "data": {
            "text/plain": [
              "1530"
            ]
          },
          "metadata": {
            "tags": []
          },
          "execution_count": 70
        },
        {
          "output_type": "display_data",
          "data": {
            "image/png": "[encoded data removed]",
            "text/plain": [
              "<Figure size 432x288 with 1 Axes>"
            ]
          },
          "metadata": {
            "tags": []
          }
        }
      ]
    },
    {
      "cell_type": "markdown",
      "metadata": {
        "id": "SLT9qIvopJjc",
        "colab_type": "text"
      },
      "source": [
        "## 4. A Collaborations Network"
      ]
    },
    {
      "cell_type": "markdown",
      "metadata": {
        "id": "b1pRcvJYpJjc",
        "colab_type": "text"
      },
      "source": [
        "The **social graph** of a node $x$ in a (social) network\n",
        "is the **induced subgraph** on the set of friends of $x$\n",
        "(that is the graph which has (only) the friends of $x$\n",
        "as its vertices, and between them all the edges from the\n",
        "original network).\n",
        "The **clustering coefficient** of $x$ is the density\n",
        "$m \\, \\binom{n}{2}^{-1}$\n",
        "of the social graph of $x$, the proportion of its actual number of edges,\n",
        "$m$, in the set of potential edges, of size $\\binom{n}{2} = \\frac12 n(n-1)$,\n",
        "where $n$ is its number of vertices.\n",
        "\n",
        "[MathSciNet](http://www.ams.org/mathscinet) describes \n",
        "the social network of mathematical researchers defined\n",
        "by collaboration.\n",
        "\n",
        "1. **Pick** a (local) mathematician with at least $10$\n",
        "friends (i.e., co-authors), determine their social graph.\n",
        "\n",
        "2. Hence compute their clustering coefficient.\n",
        "\n",
        "(**Note** that access to these data is free, but only **on campus**.)\n"
      ]
    },
    {
      "cell_type": "code",
      "metadata": {
        "id": "_Iv2okRqpJjd",
        "colab_type": "code",
        "colab": {}
      },
      "source": [
        ""
      ],
      "execution_count": 0,
      "outputs": []
    }
  ]
}