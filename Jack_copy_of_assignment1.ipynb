{
  "nbformat": 4,
  "nbformat_minor": 0,
  "metadata": {
    "kernelspec": {
      "display_name": "Python 3",
      "language": "python",
      "name": "python3"
    },
    "language_info": {
      "codemirror_mode": {
        "name": "ipython",
        "version": 3
      },
      "file_extension": ".py",
      "mimetype": "text/x-python",
      "name": "python",
      "nbconvert_exporter": "python",
      "pygments_lexer": "ipython3",
      "version": "3.7.6"
    },
    "colab": {
      "name": "Jack copy of assignment1.ipynb",
      "provenance": [],
      "include_colab_link": true
    }
  },
  "cells": [
    {
      "cell_type": "markdown",
      "metadata": {
        "id": "view-in-github",
        "colab_type": "text"
      },
      "source": [
        "<a href=\"https://colab.research.google.com/github/JackQuane/C-Programs1/blob/master/Jack_copy_of_assignment1.ipynb\" target=\"_parent\"><img src=\"https://colab.research.google.com/assets/colab-badge.svg\" alt=\"Open In Colab\"/></a>"
      ]
    },
    {
      "cell_type": "markdown",
      "metadata": {
        "id": "jYKSJ4uG4d3j",
        "colab_type": "text"
      },
      "source": [
        "### CS4423 - Networks\n",
        "Prof. Götz Pfeiffer<br />\n",
        "School of Mathematics, Statistics and Applied Mathematics<br />\n",
        "NUI Galway"
      ]
    },
    {
      "cell_type": "markdown",
      "metadata": {
        "id": "hb6G4nt-4d3o",
        "colab_type": "text"
      },
      "source": [
        "# Assignment 1"
      ]
    },
    {
      "cell_type": "markdown",
      "metadata": {
        "id": "R2DtDlAY4d3p",
        "colab_type": "text"
      },
      "source": [
        "Provide answers to the problems in the boxes provided.  Marks will be awarded for\n",
        "participation and engagement.\n",
        "\n",
        "When finished, print this notebook into a **pdf** file and submit this to\n",
        "**blackboard**.\n",
        "\n",
        "**Deadline** is next Monday at 5pm."
      ]
    },
    {
      "cell_type": "markdown",
      "metadata": {
        "id": "spUG6nGR4d3q",
        "colab_type": "text"
      },
      "source": [
        "## Setup"
      ]
    },
    {
      "cell_type": "markdown",
      "metadata": {
        "id": "I4BxEMiA4d3r",
        "colab_type": "text"
      },
      "source": [
        "This is a `jupyter` notebook.   You can open and interact\n",
        "with the notebook through one of sites recommended at\n",
        "its [github](https://github.com/gpfeiffer/cs4423) repository.\n",
        "\n",
        "Or, you can\n",
        "install and use `jupyter` as a `python` package on your own laptop or PC.  "
      ]
    },
    {
      "cell_type": "markdown",
      "metadata": {
        "id": "aI5drj704d3s",
        "colab_type": "text"
      },
      "source": [
        "The following command loads the `networkx` package into the current session.  \n",
        "The next command specifies some standard options that can be useful for drawing graphs.  \n",
        "\n",
        "In order to execute the code in a box,\n",
        "use the mouse or arrow keys to highlight the box and then press SHIFT-RETURN."
      ]
    },
    {
      "cell_type": "code",
      "metadata": {
        "id": "GFhgc-Ba4d3t",
        "colab_type": "code",
        "colab": {}
      },
      "source": [
        "import networkx as nx\n",
        "opts = { \"with_labels\": True, \"node_color\": 'y' }"
      ],
      "execution_count": 0,
      "outputs": []
    },
    {
      "cell_type": "markdown",
      "metadata": {
        "id": "gAyC5ff54d3w",
        "colab_type": "text"
      },
      "source": [
        "Should it ever happen that the notebook becomes unusable, start again with a fresh copy."
      ]
    },
    {
      "cell_type": "markdown",
      "metadata": {
        "id": "dwPaU8sP4d3x",
        "colab_type": "text"
      },
      "source": [
        "##  1. Warmup.\n",
        "\n",
        "The purpose of this task is to get you used to working with the `networkx` package\n",
        "in the `jupyter` notebook environment.\n",
        "\n",
        "1. Define a new (simple) graph `G` on the vertex set $X = \\{0, 1, 2, 3, 4, 5, 6, 7, 8, 9\\}$\n",
        "with edges $0-1$, $1-2$, $2-3$, $3-4$, $4-5$, $5-6$, $6-7$, $7-8$, $8-9$, and $9-0$.\n",
        "Draw the graph.  Hence or otherwise determine its **order** (the number of nodes)\n",
        "and its **size** (the number of links)."
      ]
    },
    {
      "cell_type": "code",
      "metadata": {
        "id": "5uEnHbnt4d3y",
        "colab_type": "code",
        "outputId": "4348031a-44d3-47d5-a526-2e8d6d381bb7",
        "colab": {
          "base_uri": "https://localhost:8080/",
          "height": 353
        }
      },
      "source": [
        "G = nx.Graph([\"01\", \"12\", \"23\", \"34\", \"45\", \"56\", \"67\", \"78\", \"89\", \"90\"])\n",
        "nx.draw(G, **opts)\n",
        "print(G.size())\n",
        "print(G.order())"
      ],
      "execution_count": 0,
      "outputs": [
        {
          "output_type": "stream",
          "text": [
            "10\n",
            "10\n"
          ],
          "name": "stdout"
        },
        {
          "output_type": "display_data",
          "data": {
            "image/png": "[encoded data removed]",
            "text/plain": [
              "<Figure size 432x288 with 1 Axes>"
            ]
          },
          "metadata": {
            "tags": []
          }
        }
      ]
    },
    {
      "cell_type": "markdown",
      "metadata": {
        "id": "b7bK8pqW4d31",
        "colab_type": "text"
      },
      "source": [
        "2. Find the **adjacency matrix** $A$ of the graph `G`.  Then compute its square, $A^2$,\n",
        "and draw the graph `G2` that has $A^2$ as its adjacency matrix.  What are the connected components of `G2`? "
      ]
    },
    {
      "cell_type": "code",
      "metadata": {
        "id": "pEwOToUX4d33",
        "colab_type": "code",
        "outputId": "5317957c-7b19-4ea5-8dad-f0df24e17cd9",
        "colab": {
          "base_uri": "https://localhost:8080/",
          "height": 402
        }
      },
      "source": [
        "import numpy as np\n",
        "A = nx.adjacency_matrix(G)\n",
        "print(A.todense())\n",
        "Asquared=A*A\n",
        "np.from_numpy_matrix(Asquared)\n",
        "\n",
        "\n"
      ],
      "execution_count": 0,
      "outputs": [
        {
          "output_type": "stream",
          "text": [
            "[[0 1 0 0 0 0 0 0 0 1]\n",
            " [1 0 1 0 0 0 0 0 0 0]\n",
            " [0 1 0 1 0 0 0 0 0 0]\n",
            " [0 0 1 0 1 0 0 0 0 0]\n",
            " [0 0 0 1 0 1 0 0 0 0]\n",
            " [0 0 0 0 1 0 1 0 0 0]\n",
            " [0 0 0 0 0 1 0 1 0 0]\n",
            " [0 0 0 0 0 0 1 0 1 0]\n",
            " [0 0 0 0 0 0 0 1 0 1]\n",
            " [1 0 0 0 0 0 0 0 1 0]]\n"
          ],
          "name": "stdout"
        },
        {
          "output_type": "error",
          "ename": "AttributeError",
          "evalue": "ignored",
          "traceback": [
            "\u001b[0;31m---------------------------------------------------------------------------\u001b[0m",
            "\u001b[0;31mAttributeError\u001b[0m                            Traceback (most recent call last)",
            "\u001b[0;32m<ipython-input-19-282c25a1a702>\u001b[0m in \u001b[0;36m<module>\u001b[0;34m()\u001b[0m\n\u001b[1;32m      3\u001b[0m \u001b[0mprint\u001b[0m\u001b[0;34m(\u001b[0m\u001b[0mA\u001b[0m\u001b[0;34m.\u001b[0m\u001b[0mtodense\u001b[0m\u001b[0;34m(\u001b[0m\u001b[0;34m)\u001b[0m\u001b[0;34m)\u001b[0m\u001b[0;34m\u001b[0m\u001b[0;34m\u001b[0m\u001b[0m\n\u001b[1;32m      4\u001b[0m \u001b[0mAsquared\u001b[0m\u001b[0;34m=\u001b[0m\u001b[0mA\u001b[0m\u001b[0;34m*\u001b[0m\u001b[0mA\u001b[0m\u001b[0;34m\u001b[0m\u001b[0;34m\u001b[0m\u001b[0m\n\u001b[0;32m----> 5\u001b[0;31m \u001b[0mnp\u001b[0m\u001b[0;34m.\u001b[0m\u001b[0mfrom_numpy_matrix\u001b[0m\u001b[0;34m(\u001b[0m\u001b[0mAsquared\u001b[0m\u001b[0;34m)\u001b[0m\u001b[0;34m\u001b[0m\u001b[0;34m\u001b[0m\u001b[0m\n\u001b[0m\u001b[1;32m      6\u001b[0m \u001b[0;34m\u001b[0m\u001b[0m\n\u001b[1;32m      7\u001b[0m \u001b[0;34m\u001b[0m\u001b[0m\n",
            "\u001b[0;31mAttributeError\u001b[0m: module 'numpy' has no attribute 'from_numpy_matrix'"
          ]
        }
      ]
    },
    {
      "cell_type": "markdown",
      "metadata": {
        "id": "Wuob119U4d36",
        "colab_type": "text"
      },
      "source": [
        "##  2.  Projections"
      ]
    },
    {
      "cell_type": "markdown",
      "metadata": {
        "id": "iRS4a8At4d37",
        "colab_type": "text"
      },
      "source": [
        "Suppose that $G$ is a bipartite graph on a vertex set that is the disjoint union of two sets $X$ and $Y$, where each edge\n",
        "connects a verte in $X$ to a vertex in $Y$.  The **projection** of $G$ onto the set $X$\n",
        "is the graph with vertex set $X$, where any two elements are joined by an edge whenever\n",
        "they are joined to a common element $y \\in Y$ in the graph $G$.  \n",
        "The adjacency matrix of the projection can be derived from the square $A^2$ of the adjacency matrix\n",
        "$A$ of $G$."
      ]
    },
    {
      "cell_type": "markdown",
      "metadata": {
        "id": "-1mZAnCt4d38",
        "colab_type": "text"
      },
      "source": [
        "Consider the affilliation network below, with $11$ people labelled $A$ to $K$,\n",
        "and four foci labelled $1$, $2$, $3$ and $4$, \n",
        "\n",
        "![bipartite graph](https://github.com/gpfeiffer/cs4423/blob/master/images/bipartite.png?raw=1)\n",
        "\n",
        "1.  Compute the adjacency matrix of $G$.\n",
        "\n",
        "2. Draw the projection on (just)\n",
        "   the people, in which two people are joined by an edge if they have a common\n",
        "   focus.\n",
        "   (Of course, one can do this easily by hand.  It would be nice to get\n",
        "   `networkx` to do it for you.)\n",
        "\n",
        "3. Compute the adjacency matrix $B$ of the projection\n",
        "   and compare it to $A^2$.  What do you observe?"
      ]
    },
    {
      "cell_type": "code",
      "metadata": {
        "id": "OnEkhH1k4d39",
        "colab_type": "code",
        "colab": {}
      },
      "source": [
        "A = nx.adjacency_matrix(G)\n"
      ],
      "execution_count": 0,
      "outputs": []
    },
    {
      "cell_type": "markdown",
      "metadata": {
        "id": "Ahfxsp0H4d4A",
        "colab_type": "text"
      },
      "source": [
        "... text goes here ..."
      ]
    },
    {
      "cell_type": "markdown",
      "metadata": {
        "id": "PLDbSfx94d4B",
        "colab_type": "text"
      },
      "source": [
        "## 3. Random Trees"
      ]
    },
    {
      "cell_type": "markdown",
      "metadata": {
        "id": "nz22UPw64d4C",
        "colab_type": "text"
      },
      "source": [
        "The `nx.random_tree(n)` command can be used to generate a random tree on the `n` vertices\n",
        "represented in `python` by `range(n)`.\n",
        "\n",
        "Such a tree can be converted into a sequence of $n - 2$ numbers, its **Prüfer code** by the\n",
        "`python` function `pruefer_code`, defined as follows:"
      ]
    },
    {
      "cell_type": "code",
      "metadata": {
        "id": "rRTWRiMJ4d4D",
        "colab_type": "code",
        "colab": {}
      },
      "source": [
        "def pruefer_node(tree):\n",
        "    for x in tree:\n",
        "        if tree.degree(x) == 1:\n",
        "            for y in tree[x]:\n",
        "                tree.remove_node(x)\n",
        "                return y\n",
        "\n",
        "def pruefer_code(T):\n",
        "    tree = T.copy()\n",
        "    return [pruefer_node(tree) for k in range(tree.order() - 2)]"
      ],
      "execution_count": 0,
      "outputs": []
    },
    {
      "cell_type": "code",
      "metadata": {
        "id": "_Od0UY754d4H",
        "colab_type": "code",
        "colab": {}
      },
      "source": [
        "T = nx.random_tree(12)"
      ],
      "execution_count": 0,
      "outputs": []
    },
    {
      "cell_type": "code",
      "metadata": {
        "id": "wHIDIk4k4d4M",
        "colab_type": "code",
        "outputId": "1275a557-7da9-458e-c46f-9f079ad6f299",
        "colab": {
          "base_uri": "https://localhost:8080/",
          "height": 34
        }
      },
      "source": [
        "code = pruefer_code(T)\n",
        "code"
      ],
      "execution_count": 0,
      "outputs": [
        {
          "output_type": "execute_result",
          "data": {
            "text/plain": [
              "[2, 2, 9, 0, 11, 0, 1, 5, 10, 8]"
            ]
          },
          "metadata": {
            "tags": []
          },
          "execution_count": 26
        }
      ]
    },
    {
      "cell_type": "markdown",
      "metadata": {
        "id": "IL2sB-Lo4d4O",
        "colab_type": "text"
      },
      "source": [
        "Conversely, the following function `tree_pruefer` constructs a tree from a\n",
        "Prüfer code."
      ]
    },
    {
      "cell_type": "code",
      "metadata": {
        "id": "Zt5NyS2-4d4P",
        "colab_type": "code",
        "colab": {}
      },
      "source": [
        "def tree_pruefer(code):\n",
        "\n",
        "    # initialize graph and defects\n",
        "    n = len(code) + 2\n",
        "    tree = nx.empty_graph(n)\n",
        "    defects = [1 for x in tree]\n",
        "    for y in code:\n",
        "        defects[y] += 1\n",
        "        \n",
        "    # add edges\n",
        "    for y in code:\n",
        "        for x in tree:\n",
        "            if defects[x] == 1:\n",
        "                tree.add_edge(x, y)\n",
        "                for z in (x, y):\n",
        "                    defects[z] -= 1\n",
        "                break\n",
        "                \n",
        "    # final edge\n",
        "    e = [x for x in tree if defects[x] == 1]\n",
        "    tree.add_edge(*e)\n",
        "    \n",
        "    return tree"
      ],
      "execution_count": 0,
      "outputs": []
    },
    {
      "cell_type": "code",
      "metadata": {
        "id": "Hvr-_maE4d4S",
        "colab_type": "code",
        "colab": {}
      },
      "source": [
        "T2 = tree_pruefer(code)"
      ],
      "execution_count": 0,
      "outputs": []
    },
    {
      "cell_type": "markdown",
      "metadata": {
        "id": "MJdJEZFR4d4U",
        "colab_type": "text"
      },
      "source": [
        "1. Construct a few random trees on $n = 10, 11, 12, \\ldots$ nodes.  For each such tree,\n",
        "   draw it, compute its Prüfer code and then convert the code back into a tree.\n",
        "   Do you get your old tree back?\n",
        "\n",
        "2. For a few randomly chosen Prüfer codes, construct the corresponding tree, \n",
        "   draw it if you want, and convert it back into a Prüfer code.\n",
        "   Do you get your olc code back?\n",
        "   \n",
        "3. Which tree on $n$ nodes corresponds to the Prüfer code \n",
        "   consisting of $n-2$ entries $0$?"
      ]
    },
    {
      "cell_type": "code",
      "metadata": {
        "id": "aT5_EUW54d4V",
        "colab_type": "code",
        "outputId": "faacfe9c-2a7e-484f-db60-6b426f09c071",
        "colab": {
          "base_uri": "https://localhost:8080/",
          "height": 319
        }
      },
      "source": [
        "T10 = nx.random_tree(10)\n",
        "T11 = nx.random_tree(11)\n",
        "T12 = nx.random_tree(12)\n",
        "nx.draw(T10, **opts)\n",
        "# nx.draw(T11, **opts)\n",
        "# nx.draw(T12, **opts)\n",
        "code = pruefer_code(T10)\n",
        "code = pruefer_code(T11)\n",
        "code = pruefer_code(T12)\n",
        "T10 = tree_pruefer(code)\n",
        "T11 = tree_pruefer(code)\n",
        "T12 = tree_pruefer(code)\n",
        "nx.draw(T10, **opts)\n",
        "# nx.draw(T11, **opts)\n",
        "# nx.draw(T12, **opts)\n",
        "\n"
      ],
      "execution_count": 0,
      "outputs": [
        {
          "output_type": "display_data",
          "data": {
            "image/png": "[encoded data removed]",
            "text/plain": [
              "<Figure size 432x288 with 1 Axes>"
            ]
          },
          "metadata": {
            "tags": []
          }
        }
      ]
    },
    {
      "cell_type": "markdown",
      "metadata": {
        "id": "wLgxNdPa4d4X",
        "colab_type": "text"
      },
      "source": [
        "1. No, 2. "
      ]
    },
    {
      "cell_type": "markdown",
      "metadata": {
        "id": "oo-7iUNZ4d4Y",
        "colab_type": "text"
      },
      "source": [
        "## 4. Breadth First Search."
      ]
    },
    {
      "cell_type": "markdown",
      "metadata": {
        "id": "4DoBOU-e4d4a",
        "colab_type": "text"
      },
      "source": [
        "Breadth First Search (BFS) is a versatile and efficient strategy for systematically visiting\n",
        "all the nodes in a graph.\n",
        "\n",
        "Given a graph $G = (X, E)$ and a starting point $x \\in X$, BFS can be described as the following sequence of steps.\n",
        "\n",
        "1. mark all nodes of $G$ as \"unseen\".\n",
        "\n",
        "2. initialize a list `seen = [x]` and mark `x` as seen.\n",
        "\n",
        "3. loop over the elements `y` in the list `seen` and, in each step, visit the\n",
        "   node `y` and add all of `y`'s neighbors that have not been marked as \"seen\"\n",
        "   to the list `seen` and mark them as seen.\n"
      ]
    },
    {
      "cell_type": "markdown",
      "metadata": {
        "id": "PqCOkQMH4d4b",
        "colab_type": "text"
      },
      "source": [
        "### For Example\n",
        "\n",
        "Consider the graph on the vertex set `\"ABCDEFGHIJ\"`\n",
        "defined in the nearby file `data/bfs.adj` by adjacency lists."
      ]
    },
    {
      "cell_type": "code",
      "metadata": {
        "id": "l4MWh46a4d4c",
        "colab_type": "code",
        "colab": {
          "base_uri": "https://localhost:8080/",
          "height": 319
        },
        "outputId": "a6f5a6c3-a101-41f0-d48c-cfe31015c0d7"
      },
      "source": [
        "# G = nx.read_adjlist(\"data/bfs.adj\")\n",
        "# G = ['AB','AC','AD','AE','BC','BF','CF','DG','DH','EH','FI','GI','GJ','HJ','IK','JK']\n",
        "G = nx.Graph(['AB','AC','AD','AE','BC','BF','CF','DG','DH','EH','FI','GI','GJ','HJ','IK','JK'])\n",
        "nx.draw(G, **opts)"
      ],
      "execution_count": 10,
      "outputs": [
        {
          "output_type": "display_data",
          "data": {
            "image/png": "[encoded data removed]",
            "text/plain": [
              "<Figure size 432x288 with 1 Axes>"
            ]
          },
          "metadata": {
            "tags": []
          }
        }
      ]
    },
    {
      "cell_type": "markdown",
      "metadata": {
        "id": "FptuJa5S4d4h",
        "colab_type": "text"
      },
      "source": [
        "Let's say we want to start exploring the graph at vertex `'A'`"
      ]
    },
    {
      "cell_type": "code",
      "metadata": {
        "id": "r_G7_iv34d4i",
        "colab_type": "code",
        "colab": {}
      },
      "source": [
        "x = 'A'"
      ],
      "execution_count": 0,
      "outputs": []
    },
    {
      "cell_type": "markdown",
      "metadata": {
        "id": "LxBPAuFx4d4l",
        "colab_type": "text"
      },
      "source": [
        "**Step 1.** For each of its nodes `x`, the graph object `G` maintains in `G.nodes[x]` a `python` dictionary\n",
        "that can be used store arbirary attributes of the nodes.  We can use it for an attribute `'seen'`,\n",
        "which is set to `True` or `False`, depending on whether the node has already been seen by this instance \n",
        "of BFS, or not.  Initially it would be false for all nodes."
      ]
    },
    {
      "cell_type": "code",
      "metadata": {
        "id": "4zYzVFjF4d4m",
        "colab_type": "code",
        "colab": {
          "base_uri": "https://localhost:8080/",
          "height": 34
        },
        "outputId": "a5d9d80c-c45b-466d-b9e2-d16c3f197732"
      },
      "source": [
        "G.nodes[x]"
      ],
      "execution_count": 12,
      "outputs": [
        {
          "output_type": "execute_result",
          "data": {
            "text/plain": [
              "{}"
            ]
          },
          "metadata": {
            "tags": []
          },
          "execution_count": 12
        }
      ]
    },
    {
      "cell_type": "code",
      "metadata": {
        "id": "ay-LiJr-4d4o",
        "colab_type": "code",
        "colab": {}
      },
      "source": [
        "for y in G:\n",
        "    G.nodes[y]['seen'] = False"
      ],
      "execution_count": 0,
      "outputs": []
    },
    {
      "cell_type": "markdown",
      "metadata": {
        "id": "iX0m-2Gp4d4t",
        "colab_type": "text"
      },
      "source": [
        "**Step 2.** Initialize a `python` list `seen` to contain `x` only, and set `x`'s `'seen'` attribute to `True`."
      ]
    },
    {
      "cell_type": "code",
      "metadata": {
        "id": "QoldKrNl4d4u",
        "colab_type": "code",
        "colab": {}
      },
      "source": [
        "seen = [x]\n",
        "G.nodes[x]['seen'] = True"
      ],
      "execution_count": 0,
      "outputs": []
    },
    {
      "cell_type": "markdown",
      "metadata": {
        "id": "1P9BHMPT4d4x",
        "colab_type": "text"
      },
      "source": [
        "**Step 3.**  The loop over `seen`.  For each node `y` in the list, print `y`, then\n",
        "add all of `y`'s unseen neighbors to the end of the list `seen` and mark them\n",
        "as `\"seen\"`.  Note how the list `seen` initially has only one element, but grows\n",
        "over time, until no more new nodes are detected.  \n",
        "The loop automatically terminates when the end of the list `seen` has been reached."
      ]
    },
    {
      "cell_type": "code",
      "metadata": {
        "id": "f9AMwhMz4d4y",
        "colab_type": "code",
        "colab": {
          "base_uri": "https://localhost:8080/",
          "height": 204
        },
        "outputId": "4fba5885-37d5-49d9-f908-22f00fe73446"
      },
      "source": [
        "for y in seen:\n",
        "    print(y)\n",
        "    for z in G.neighbors(y):\n",
        "        if not G.nodes[z]['seen']:\n",
        "            seen.append(z)\n",
        "            G.nodes[z]['seen'] = True"
      ],
      "execution_count": 15,
      "outputs": [
        {
          "output_type": "stream",
          "text": [
            "A\n",
            "B\n",
            "C\n",
            "D\n",
            "E\n",
            "F\n",
            "G\n",
            "H\n",
            "I\n",
            "J\n",
            "K\n"
          ],
          "name": "stdout"
        }
      ]
    },
    {
      "cell_type": "markdown",
      "metadata": {
        "id": "HSmxO-UT4d41",
        "colab_type": "text"
      },
      "source": [
        "In a variant of the same BFS strategy, on can construct a tree on the vertex set $X$ that\n",
        "records the history of how the nodes in the graph $G$ were discovered."
      ]
    },
    {
      "cell_type": "code",
      "metadata": {
        "id": "95uSKPOc4d42",
        "colab_type": "code",
        "colab": {}
      },
      "source": [
        "x = 'A'"
      ],
      "execution_count": 0,
      "outputs": []
    },
    {
      "cell_type": "markdown",
      "metadata": {
        "id": "OovkJtsH4d45",
        "colab_type": "text"
      },
      "source": [
        "We set up an empty graph `T` to eventually contain the tree."
      ]
    },
    {
      "cell_type": "code",
      "metadata": {
        "id": "TtkJ6xGn4d46",
        "colab_type": "code",
        "colab": {}
      },
      "source": [
        "T = nx.Graph()"
      ],
      "execution_count": 0,
      "outputs": []
    },
    {
      "cell_type": "markdown",
      "metadata": {
        "id": "WoCXcQ9i4d4-",
        "colab_type": "text"
      },
      "source": [
        "From here it's essentially the same procedure as above ..."
      ]
    },
    {
      "cell_type": "code",
      "metadata": {
        "id": "BgF-iXWN4d4_",
        "colab_type": "code",
        "colab": {}
      },
      "source": [
        "for y in G:\n",
        "    G.nodes[y]['seen'] = False"
      ],
      "execution_count": 0,
      "outputs": []
    },
    {
      "cell_type": "markdown",
      "metadata": {
        "id": "DZFwH5sx4d5C",
        "colab_type": "text"
      },
      "source": [
        "... except that we need to add the initial vertex `x` to `T` ..."
      ]
    },
    {
      "cell_type": "code",
      "metadata": {
        "id": "pIxjYwH24d5E",
        "colab_type": "code",
        "colab": {}
      },
      "source": [
        "T.add_node(x)\n",
        "seen = [x]\n",
        "G.nodes[x]['seen'] = True"
      ],
      "execution_count": 0,
      "outputs": []
    },
    {
      "cell_type": "markdown",
      "metadata": {
        "id": "UFPLLeW54d5I",
        "colab_type": "text"
      },
      "source": [
        "... and instead of printing `y`, we add the edges leading to `y`'s children to the tree `T`."
      ]
    },
    {
      "cell_type": "code",
      "metadata": {
        "id": "BMY6Vfsb4d5J",
        "colab_type": "code",
        "colab": {}
      },
      "source": [
        "for y in seen:\n",
        "    for z in G.neighbors(y):\n",
        "        if not G.nodes[z]['seen']:\n",
        "            T.add_edge(y, z)\n",
        "            seen.append(z)\n",
        "            G.nodes[z]['seen'] = True"
      ],
      "execution_count": 0,
      "outputs": []
    },
    {
      "cell_type": "markdown",
      "metadata": {
        "id": "VifEEz4K4d5M",
        "colab_type": "text"
      },
      "source": [
        "The resulting tree `T` is called a **spanning tree** of the graph `G`."
      ]
    },
    {
      "cell_type": "code",
      "metadata": {
        "id": "q9ul7hjQ4d5N",
        "colab_type": "code",
        "colab": {
          "base_uri": "https://localhost:8080/",
          "height": 319
        },
        "outputId": "0d635d65-fb04-495d-bbd0-54ee68e1c55b"
      },
      "source": [
        "nx.draw(T, **opts)"
      ],
      "execution_count": 21,
      "outputs": [
        {
          "output_type": "display_data",
          "data": {
            "image/png": "[encoded data removed]",
            "text/plain": [
              "<Figure size 432x288 with 1 Axes>"
            ]
          },
          "metadata": {
            "tags": []
          }
        }
      ]
    },
    {
      "cell_type": "markdown",
      "metadata": {
        "id": "gY3UCu3w4d5Q",
        "colab_type": "text"
      },
      "source": [
        "1. Print out all the nodes of `G` as discovered when the starting point is node `B`.\n",
        "2. Construct a spanning tree of the graph `G` with node `B` as starting point.\n",
        "3. Repeat 1 and 2 for one more starting node.\n",
        "4. Is there a sense of distance between nodes that becomes apparent through these traversals?\n",
        "   Could a variant of BFS be used to compute such distances between nodes in `G`?"
      ]
    },
    {
      "cell_type": "code",
      "metadata": {
        "id": "9m3Oa-er4d5R",
        "colab_type": "code",
        "colab": {
          "base_uri": "https://localhost:8080/",
          "height": 506
        },
        "outputId": "96c617e6-9ac2-492a-83b2-1c60b024a852"
      },
      "source": [
        "x = 'B'\n",
        "G.nodes[x]\n",
        "for y in G:\n",
        "    G.nodes[y]['seen'] = False\n",
        "seen = [x]\n",
        "G.nodes[x]['seen'] = True\n",
        "for y in seen:\n",
        "    print(y)\n",
        "    for z in G.neighbors(y):\n",
        "        if not G.nodes[z]['seen']:\n",
        "            seen.append(z)\n",
        "            G.nodes[z]['seen'] = True\n",
        "\n",
        "T = nx.Graph()\n",
        "for y in G:\n",
        "    G.nodes[y]['seen'] = False\n",
        "T.add_node(x)\n",
        "seen = [x]\n",
        "G.nodes[x]['seen'] = True\n",
        "for y in seen:\n",
        "    for z in G.neighbors(y):\n",
        "        if not G.nodes[z]['seen']:\n",
        "            T.add_edge(y, z)\n",
        "            seen.append(z)\n",
        "            G.nodes[z]['seen'] = True\n",
        "nx.draw(T, **opts)"
      ],
      "execution_count": 26,
      "outputs": [
        {
          "output_type": "stream",
          "text": [
            "B\n",
            "A\n",
            "C\n",
            "F\n",
            "D\n",
            "E\n",
            "I\n",
            "G\n",
            "H\n",
            "K\n",
            "J\n"
          ],
          "name": "stdout"
        },
        {
          "output_type": "display_data",
          "data": {
            "image/png": "[encoded data removed]",
            "text/plain": [
              "<Figure size 432x288 with 1 Axes>"
            ]
          },
          "metadata": {
            "tags": []
          }
        }
      ]
    },
    {
      "cell_type": "markdown",
      "metadata": {
        "id": "ZIeNsaOp4d5T",
        "colab_type": "text"
      },
      "source": [
        " ... text goes here ..."
      ]
    }
  ]
}